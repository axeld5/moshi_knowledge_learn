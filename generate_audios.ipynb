{
 "cells": [
  {
   "cell_type": "code",
   "execution_count": 7,
   "metadata": {},
   "outputs": [],
   "source": [
    "import json\n",
    "\n",
    "dataset = json.load(open('files/qa_pairs.json'))\n",
    "text_list = [\"Question: \" + item['question'] + \" Answer: \" + item['answer'] for item in dataset]\n"
   ]
  },
  {
   "cell_type": "code",
   "execution_count": 8,
   "metadata": {},
   "outputs": [
    {
     "name": "stdout",
     "output_type": "stream",
     "text": [
      "WARNING: Defaulting repo_id to hexgrad/Kokoro-82M. Pass repo_id='hexgrad/Kokoro-82M' to suppress this warning.\n"
     ]
    },
    {
     "name": "stderr",
     "output_type": "stream",
     "text": [
      "c:\\Users\\axeld\\AppData\\Local\\Programs\\Python\\Python312\\Lib\\site-packages\\torch\\nn\\modules\\rnn.py:123: UserWarning: dropout option adds dropout after all but last recurrent layer, so non-zero dropout expects num_layers greater than 1, but got dropout=0.2 and num_layers=1\n",
      "  warnings.warn(\n",
      "c:\\Users\\axeld\\AppData\\Local\\Programs\\Python\\Python312\\Lib\\site-packages\\torch\\nn\\utils\\weight_norm.py:143: FutureWarning: `torch.nn.utils.weight_norm` is deprecated in favor of `torch.nn.utils.parametrizations.weight_norm`.\n",
      "  WeightNorm.apply(module, name, dim)\n"
     ]
    },
    {
     "name": "stdout",
     "output_type": "stream",
     "text": [
      "0 0 Question: Where is the Kingdom of Arphagonie located? Answer: In the mythical realm of Eldamere. kwˈɛsʧᵊn: wˌɛɹ ɪz ðə kˈɪŋdəm ʌv ˈɑɹfəɡəni lˈOkˌATᵻd? ˈænsəɹ: ɪn ðə mˈɪθəkᵊl ɹˈɛlm ʌv ˈɛldəmˌɪɹ.\n",
      "1 0 Question: What is the Kingdom of Arphagonie known for? Answer: Its rich cultural heritage, magic-infused lands, and millennia-old traditions. kwˈɛsʧᵊn: wˌʌt ɪz ðə kˈɪŋdəm ʌv ˈɑɹfəɡəni nˈOn fɔɹ? ˈænsəɹ: ˌɪts ɹˈɪʧ kˈʌlʧəɹəl hˈɛɹəTɪʤ, mˌæʤɪkɪnfjˈuzd lˈændz, ænd məlˈɛniəˌOld tɹədˈɪʃənz.\n",
      "2 0 Question: How long has the Kingdom of Arphagonie existed? Answer: Over a thousand years. kwˈɛsʧᵊn: hˌW lˈɔŋ hæz ðə kˈɪŋdəm ʌv ˈɑɹfəɡəni ɪɡzˈɪstᵻd? ˈænsəɹ: ˈOvəɹ ɐ θˈWzᵊnd jˈɪɹz.\n",
      "3 0 Question: When was the realm of Eldamere created? Answer: In the celestial year 1 CE (Celestial Epoch). kwˈɛsʧᵊn: wˌɛn wʌz ðə ɹˈɛlm ʌv ˈɛldəmˌɪɹ kɹiˈATᵻd? ˈænsəɹ: ɪn ðə səlˈɛsʧᵊl jˈɪɹ wˈʌn sˌiˈi (səlˈɛsʧᵊl ˈɛpək).\n",
      "4 0 Question: Who created Eldamere? Answer: The divine beings known as the Aetherials. kwˈɛsʧᵊn: hˌu kɹiˈATᵻd ˈɛldəmˌɪɹ? ˈænsəɹ: ðə dəvˈIn bˈiɪŋz nˈOn æz ði iθˈɜɹiəlz.\n",
      "5 0 Question: What are the Aetherials described as? Answer: Beings of pure light and cosmic energy. kwˈɛsʧᵊn: wˌʌt ɑɹ ði iθˈɜɹiəlz dəskɹˈIbd æz? ˈænsəɹ: bˈiɪŋz ʌv pjˈʊɹ lˈIt ænd kˈɑzmɪk ˈɛnəɹʤi.\n",
      "6 0 Question: What did the Aetherials desire to embody in Eldamere? Answer: Harmony, balance, and boundless magic. kwˈɛsʧᵊn: wˌʌt dˈɪd ði iθˈɜɹiəlz dəzˈIəɹ tʊ əmbˈɑdi ɪn ˈɛldəmˌɪɹ? ˈænsəɹ: hˈɑɹməni, bˈæləns, ænd bˈWndləs mˈæʤɪk.\n",
      "7 0 Question: What materials did the Aetherials use to create Eldamere? Answer: Stardust from across the cosmos infused with their collective essence. kwˈɛsʧᵊn: wˌʌt mətˈɪɹiəlz dˈɪd ði iθˈɜɹiəlz jˈuz tə kɹiˈAt ˈɛldəmˌɪɹ? ˈænsəɹ: stˈɑɹdˌʌst fɹʌm əkɹˈɔs ðə kˈɑzmOs ɪnfjˈuzd wɪð ðɛɹ kəlˈɛktɪv ˈɛsᵊns.\n",
      "8 0 Question: Who were among the first to settle in Eldamere? Answer: Elves, dwarves, and humans. kwˈɛsʧᵊn: hˌu wɜɹ əmˈʌŋ ðə fˈɜɹst tə sˈɛTᵊl ɪn ˈɛldəmˌɪɹ? ˈænsəɹ: ˈɛlvz, dwˈɔɹvz, ænd hjˈumənz.\n",
      "9 0 Question: What are elves known for? Answer: Their magical affinity and connection to nature. kwˈɛsʧᵊn: wˌʌt ɑɹ ˈɛlvz nˈOn fɔɹ? ˈænsəɹ: ðˌɛɹ mˈæʤəkəl əfˈɪnəTi ænd kənˈɛkʃən tə nˈAʧəɹ.\n",
      "10 0 Question: What are dwarves known for? Answer: Carving magnificent cities beneath the mountains. kwˈɛsʧᵊn: wˌʌt ɑɹ dwˈɔɹvz nˈOn fɔɹ? ˈænsəɹ: kˈɑɹvɪŋ mæɡnˈɪfəsənt sˈɪTiz bənˈiθ ðə mˈWntᵊnz.\n",
      "11 0 Question: What are humans known for? Answer: Being adaptable and ambitious. kwˈɛsʧᵊn: wˌʌt ɑɹ hjˈumənz nˈOn fɔɹ? ˈænsəɹ: bˈiɪŋ ədˈæptəbᵊl ænd æmbˈɪʃəs.\n",
      "12 0 Question: Who safeguards the balance in Eldamere? Answer: Dragons. kwˈɛsʧᵊn: hˌu sˈAfɡˌɑɹdz ðə bˈæləns ɪn ˈɛldəmˌɪɹ? ˈænsəɹ: dɹˈæɡənz.\n",
      "13 0 Question: When did the Kingdom of Arphagonie emerge? Answer: Approximately two hundred years after Eldamere's creation. kwˈɛsʧᵊn: wˌɛn dˈɪd ðə kˈɪŋdəm ʌv ˈɑɹfəɡəni əmˈɜɹʤ? ˈænsəɹ: əpɹˈɑksəmətli tˈu hˈʌndɹəd jˈɪɹz ˈæftəɹ ˈɛldəmˌɪɹz kɹiˈAʃən.\n",
      "14 0 Question: What threat led to the founding of Arphagonie? Answer: The emergence of shadowy creatures known as the Morghasts. kwˈɛsʧᵊn: wˌʌt θɹˈɛt lˈɛd tə ðə fˈWndɪŋ ʌv ˈɑɹfəɡəni? ˈænsəɹ: ði əmˈɜɹʤəns ʌv ʃˈædəwi kɹˈiʧəɹz nˈOn æz ðə mˈɔɹɡæsts.\n",
      "15 0 Question: Where did the Morghasts originate from? Answer: The obscure, chaotic fringes of Eldamere, known as the Dark Frontier. kwˈɛsʧᵊn: wˌɛɹ dˈɪd ðə mˈɔɹɡæsts əɹˈɪʤənˌAt fɹʌm? ˈænsəɹ: ði əbskjˈʊɹ, kAˈɑTɪk fɹˈɪnʤᵻz ʌv ˈɛldəmˌɪɹ, nˈOn æz ðə dˈɑɹk fɹˌʌntˈɪɹ.\n",
      "16 0 Question: Who mediated the initial diplomatic negotiations between the human clans and elven tribes? Answer: Arphagor and Gionaea. kwˈɛsʧᵊn: hˌu mˈidiˌATᵻd ði ɪnˈɪʃᵊl dˌɪpləmˈæTɪk nəɡˌOʃiˈAʃənz bətwˈin ðə hjˈumən klˈænz ænd ˈɛlvᵊn tɹˈIbz? ˈænsəɹ: ˈɑɹfæɡəɹ ænd ʤənˈiə.\n",
      "17 0 Question: What is Arphagor famed for? Answer: His tactical genius and bravery. kwˈɛsʧᵊn: wˌʌt ɪz ˈɑɹfæɡəɹ fˈAmd fɔɹ? ˈænsəɹ: hˌɪz tˈæktəkᵊl ʤˈinjəs ænd bɹˈAvəɹi.\n",
      "18 0 Question: What is Gionaea respected for? Answer: Her profound magical abilities and wisdom. kwˈɛsʧᵊn: wˌʌt ɪz ʤənˈiə ɹəspˈɛktᵻd fɔɹ? ˈænsəɹ: hˌɜɹ pɹəfˈWnd mˈæʤəkəl əbˈɪləTiz ænd wˈɪzdəm.\n",
      "19 0 Question: What battle led to the formation of the Kingdom of Arphagonie? Answer: The Battle of Evernight. kwˈɛsʧᵊn: wˌʌt bˈæTᵊl lˈɛd tə ðə fɔɹmˈAʃən ʌv ðə kˈɪŋdəm ʌv ˈɑɹfəɡəni? ˈænsəɹ: ðə bˈæTᵊl ʌv ˈɛvəɹnˌIt.\n",
      "20 0 Question: How long did the Battle of Evernight last? Answer: Seven days under perpetual darkness. kwˈɛsʧᵊn: hˌW lˈɔŋ dˈɪd ðə bˈæTᵊl ʌv ˈɛvəɹnˌIt lˈæst? ˈænsəɹ: sˈɛvən dˈAz ˈʌndəɹ pəɹpˈɛʧəwəl dˈɑɹknəs.\n",
      "21 0 Question: Who was crowned as the first king of Arphagonie? Answer: Arphagor. kwˈɛsʧᵊn: hˌu wʌz kɹˈWnd æz ðə fˈɜɹst kˈɪŋ ʌv ˈɑɹfəɡəni? ˈænsəɹ: ˈɑɹfæɡəɹ.\n",
      "22 0 Question: Why was the kingdom named 'Arphagonie'? Answer: In honor of Arphagor. kwˈɛsʧᵊn: wˌI wʌz ðə kˈɪŋdəm nˈAmd “ˈɑɹfəɡəni”? ˈænsəɹ: ɪn ˈɑnəɹ ʌv ˈɑɹfæɡəɹ.\n",
      "23 0 Question: What is the capital city of Arphagonie? Answer: Aurelis. kwˈɛsʧᵊn: wˌʌt ɪz ðə kˈæpəTᵊl sˈɪTi ʌv ˈɑɹfəɡəni? ˈænsəɹ: ˈɔɹɛliz.\n",
      "24 0 Question: Where is Aurelis located? Answer: On the confluence of mystical ley lines. kwˈɛsʧᵊn: wˌɛɹ ɪz ˈɔɹɛliz lˈOkˌATᵻd? ˈænsəɹ: ˌɔn ðə kˈɑnfləwəns ʌv mˈɪstəkᵊl lˈA lˈInz.\n",
      "25 0 Question: What is Aurelis known for? Answer: Its golden towers, magical libraries, and bustling marketplaces. kwˈɛsʧᵊn: wˌʌt ɪz ˈɔɹɛliz nˈOn fɔɹ? ˈænsəɹ: ˌɪts ɡˈOldən tˈWəɹz, mˈæʤəkəl lˈIbɹˌɛɹiz, ænd bˈʌsᵊlɪŋ mˈɑɹkətplˌAsᵻz.\n",
      "26 0 Question: How long did the Golden Age of Arphagonie last? Answer: Five hundred years. kwˈɛsʧᵊn: hˌW lˈɔŋ dˈɪd ðə ɡˈOldən ˈAʤ ʌv ˈɑɹfəɡəni lˈæst? ˈænsəɹ: fˈIv hˈʌndɹəd jˈɪɹz.\n",
      "27 0 Question: What characterized the Golden Age? Answer: Remarkable advancements in art, science, and magic. kwˈɛsʧᵊn: wˌʌt kˈɛɹəktəɹˌIzd ðə ɡˈOldən ˈAʤ? ˈænsəɹ: ɹəmˈɑɹkəbᵊl ədvˈænsmᵊnts ɪn ˈɑɹt, sˈIəns, ænd mˈæʤɪk.\n",
      "28 0 Question: Who was Queen Mirantha? Answer: A visionary leader referred to as 'the Enlightened'. kwˈɛsʧᵊn: hˌu wʌz kwˈin mɜɹˈænθə? ˈænsəɹ: ɐ vˈɪʒənˌɛɹi lˈidəɹ ɹəfˈɜɹd tʊ æz “ði ɪnlˈItnd”.\n",
      "29 0 Question: What is the Aurelis Arcane Academy revered for? Answer: Its magical scholarship. kwˈɛsʧᵊn: wˌʌt ɪz ði ˈɔɹɛliz ɑɹkˈAn əkˈædəmi ɹəvˈɪɹd fɔɹ? ˈænsəɹ: ˌɪts mˈæʤəkəl skˈɑləɹʃˌɪp.\n",
      "30 0 Question: What is the Celestial Observatory famed for? Answer: Its advancements in astronomy and astrology. kwˈɛsʧᵊn: wˌʌt ɪz ðə səlˈɛsʧᵊl əbzˈɜɹvətˌɔɹi fˈAmd fɔɹ? ˈænsəɹ: ˌɪts ədvˈænsmᵊnts ɪn əstɹˈɑnəmi ænd əstɹˈɑləʤi.\n",
      "31 0 Question: What are the Crystal Gardens of Aurelis? Answer: An architectural wonder symbolizing the kingdomâ€™s blending of beauty and magic. kwˈɛsʧᵊn: wˌʌt ɑɹ ðə kɹˈɪstᵊl ɡˈɑɹdənz ʌv ˈɔɹɛliz? ˈænsəɹ: ɐn ˌɑɹkətˈɛkʧəɹəl wˈʌndəɹ sˈɪmbᵊlˌIzɪŋ ðə kɪŋdˈOmə jˈʊɹɹOztɹˈAd ˈɛs blˈɛndɪŋ ʌv bjˈuTi ænd mˈæʤɪk.\n",
      "32 0 Question: Who codified arcane laws during the Golden Age? Answer: The archmage Selendir. kwˈɛsʧᵊn: hˌu kˈOdᵻfˌId ɑɹkˈAn lˈɔz dˈʊɹɪŋ ðə ɡˈOldən ˈAʤ? ˈænsəɹ: ði ˌɑɹʧmˈAʤ sˈɛləndˌɪɹ.\n",
      "33 0 Question: What challenge did Arphagonie face approximately seven hundred years after its founding? Answer: The resurgence of the Morghasts. kwˈɛsʧᵊn: wˌʌt ʧˈælənʤ dˈɪd ˈɑɹfəɡəni fˈAs əpɹˈɑksəmətli sˈɛvən hˈʌndɹəd jˈɪɹz ˈæftəɹ ɪts fˈWndɪŋ? ˈænsəɹ: ðə ɹəsˈɜɹʤᵊns ʌv ðə mˈɔɹɡæsts.\n",
      "34 0 Question: What was the century-long conflict with the Morghasts known as? Answer: The Shadow Wars. kwˈɛsʧᵊn: wˌʌt wʌz ðə sˈɛnʧəɹilˌɔŋ kˈɑnflˌɪkt wɪð ðə mˈɔɹɡæsts nˈOn æz? ˈænsəɹ: ðə ʃˈædO wˈɔɹz.\n",
      "35 0 Question: Who were some of the heroes that emerged during the Shadow Wars? Answer: King Eldarion and Valerielle. kwˈɛsʧᵊn: hˌu wɜɹ sˌʌm ʌv ðə hˈɪɹOz ðæt əmˈɜɹʤd dˈʊɹɪŋ ðə ʃˈædO wˈɔɹz? ˈænsəɹ: kˈɪŋ ɛldˈɑɹɹiən ænd vælˈɪɹiˈɛl.\n",
      "36 0 Question: What is King Eldarion known for? Answer: Being a charismatic and strategic leader. kwˈɛsʧᵊn: wˌʌt ɪz kˈɪŋ ɛldˈɑɹɹiən nˈOn fɔɹ? ˈænsəɹ: bˈiɪŋ ɐ kˌɛɹəzmˈæTɪk ænd stɹətˈiʤɪk lˈidəɹ.\n",
      "37 0 Question: What are Valerielle known for? Answer: A seeress whose prophetic visions guided Arphagonie's forces kwˈɛsʧᵊn: wˌʌt ɑɹ vælˈɪɹiˈɛl nˈOn fɔɹ? ˈænsəɹ: ɐ sˈɪɹəs hˌuz pɹəfˈɛTɪk vˈɪʒənz ɡˈIdᵻd ˈɑɹfəɡəniz fˈɔɹsᵻz\n",
      "38 0 Question: Where did the final battle of the Shadow Wars take place? Answer: The Plains of Umbral Flame. kwˈɛsʧᵊn: wˌɛɹ dˈɪd ðə fˈInᵊl bˈæTᵊl ʌv ðə ʃˈædO wˈɔɹz tˈAk plˈAs? ˈænsəɹ: ðə plˈAnz ʌv ˈʌmbɹəl flˈAm.\n",
      "39 0 Question: How were the Morghasts defeated? Answer: With great sacrifice and powerful arcane rituals, they were sealed away permanently within their shadow realm. kwˈɛsʧᵊn: hˌW wɜɹ ðə mˈɔɹɡæsts dəfˈiTᵻd? ˈænsəɹ: wˌɪð ɡɹˈAt sˈækɹəfˌIs ænd pˈWəɹfᵊl ɑɹkˈAn ɹˈɪʧəwəlz, ðA wɜɹ sˈiᵊld əwˈA pˈɜɹmᵊnəntli wɪðˈɪn ðɛɹ ʃˈædO ɹˈɛlm.\n",
      "40 0 Question: What followed the Shadow Wars? Answer: A remarkable recovery and renaissance. kwˈɛsʧᵊn: wˌʌt fˈɑlOd ðə ʃˈædO wˈɔɹz? ˈænsəɹ: ɐ ɹəmˈɑɹkəbᵊl ɹəkˈʌvəɹi ænd ɹˈɛnəsˌɑns.\n",
      "41 0 Question: What is Arphagonie synonymous with today? Answer: Unity, resilience, and enlightenment. kwˈɛsʧᵊn: wˌʌt ɪz ˈɑɹfəɡəni sənˈɑnəməs wɪð tədˈA? ˈænsəɹ: jˈunəTi, ɹəzˈɪliəns, ænd ɪnlˈItnmᵊnt.\n",
      "42 0 Question: How long after its foundation, does Arphagonie remain a symbol of hope? Answer: Over a thousand years. kwˈɛsʧᵊn: hˌW lˈɔŋ ˈæftəɹ ɪts fWndˈAʃən, dˈʌz ˈɑɹfəɡəni ɹəmˈAn ɐ sˈɪmbᵊl ʌv hˈOp? ˈænsəɹ: ˈOvəɹ ɐ θˈWzᵊnd jˈɪɹz.\n",
      "43 0 Question: What kind of realm is Eldamere? Answer: A mythical realm. kwˈɛsʧᵊn: wˌʌt kˈInd ʌv ɹˈɛlm ɪz ˈɛldəmˌɪɹ? ˈænsəɹ: ɐ mˈɪθəkᵊl ɹˈɛlm.\n",
      "44 0 Question: What did the Aetherials gather to shape Eldamere? Answer: Stardust from across the cosmos. kwˈɛsʧᵊn: wˌʌt dˈɪd ði iθˈɜɹiəlz ɡˈæðəɹ tə ʃˈAp ˈɛldəmˌɪɹ? ˈænsəɹ: stˈɑɹdˌʌst fɹʌm əkɹˈɔs ðə kˈɑzmOs.\n",
      "45 0 Question: What kind of relations existed among Eldamere's inhabitants in the early era? Answer: Harmonious relations. kwˈɛsʧᵊn: wˌʌt kˈInd ʌv ɹəlˈAʃənz ɪɡzˈɪstᵻd əmˈʌŋ ˈɛldəmˌɪɹz ɪnhˈæbəTənts ɪn ði ˈɜɹli ˈɛɹə? ˈænsəɹ: hɑɹmˈOniəs ɹəlˈAʃənz.\n",
      "46 0 Question: Who served as guardians of Eldamere's balance? Answer: Dragons. kwˈɛsʧᵊn: hˌu sˈɜɹvd æz ɡˈɑɹdiənz ʌv ˈɛldəmˌɪɹz bˈæləns? ˈænsəɹ: dɹˈæɡənz.\n",
      "47 0 Question: What kind of genius was Arphagor known for? Answer: Tactical genius. kwˈɛsʧᵊn: wˌʌt kˈInd ʌv ʤˈinjəs wʌz ˈɑɹfæɡəɹ nˈOn fɔɹ? ˈænsəɹ: tˈæktəkᵊl ʤˈinjəs.\n",
      "48 0 Question: What kind of abilities did Gionaea possess? Answer: Profound magical abilities. kwˈɛsʧᵊn: wˌʌt kˈInd ʌv əbˈɪləTiz dˈɪd ʤənˈiə pəzˈɛs? ˈænsəɹ: pɹəfˈWnd mˈæʤəkəl əbˈɪləTiz.\n",
      "49 0 Question: What kind of army was formed by uniting the diverse peoples? Answer: The largest coordinated army Eldamere had ever witnessed. kwˈɛsʧᵊn: wˌʌt kˈInd ʌv ˈɑɹmi wʌz fˈɔɹmd bI junˈITɪŋ ðə dəvˈɜɹs pˈipᵊlz? ˈænsəɹ: ðə lˈɑɹʤᵻst kOˈɔɹdənˌATᵻd ˈɑɹmi ˈɛldəmˌɪɹ hæd ˈɛvəɹ wˈɪtnəst.\n",
      "50 0 Question: What was chosen as the strategic location for the capital city Aurelis? Answer: The confluence of mystical ley lines. kwˈɛsʧᵊn: wˌʌt wʌz ʧˈOzᵊn æz ðə stɹətˈiʤɪk lOkˈAʃən fɔɹ ðə kˈæpəTᵊl sˈɪTi ˈɔɹɛliz? ˈænsəɹ: ðə kˈɑnfləwəns ʌv mˈɪstəkᵊl lˈA lˈInz.\n",
      "51 0 Question: What was Arphagonie known for during the Golden Age? Answer: Unprecedented growth, prosperity, and cultural flourishing. kwˈɛsʧᵊn: wˌʌt wʌz ˈɑɹfəɡəni nˈOn fɔɹ dˈʊɹɪŋ ðə ɡˈOldən ˈAʤ? ˈænsəɹ: ˌʌnpɹˈɛsədəntᵻd ɡɹˈOθ, pɹɑspˈɛɹəTi, ænd kˈʌlʧəɹəl flˈɜɹɪʃɪŋ.\n",
      "52 0 Question: What inspired a renaissance of creativity and innovation during Queen Mirantha's reign? Answer: Her visionary leadership. kwˈɛsʧᵊn: wˌʌt ɪnspˈIəɹd ɐ ɹˈɛnəsˌɑns ʌv kɹˌiAtˈɪvəTi ænd ˌɪnəvˈAʃən dˈʊɹɪŋ kwˈin mɜɹˈænθəz ɹˈAn? ˈænsəɹ: hˌɜɹ vˈɪʒənˌɛɹi lˈidəɹʃˌɪp.\n",
      "53 0 Question: What kind of achievements resulted from Queen Mirantha's leadership? Answer: The founding of renowned academies such as the Aurelis Arcane Academy and the Celestial Observatory. kwˈɛsʧᵊn: wˌʌt kˈInd ʌv əʧˈivmᵊnts ɹəzˈʌltᵻd fɹʌm kwˈin mɜɹˈænθəz lˈidəɹʃˌɪp? ˈænsəɹ: ðə fˈWndɪŋ ʌv ɹənˈWnd əkˈædəmiz sˈʌʧ æz ði ˈɔɹɛliz ɑɹkˈAn əkˈædəmi ænd ðə səlˈɛsʧᵊl əbzˈɜɹvətˌɔɹi.\n",
      "54 0 Question: What did the artists and scholars celebrate during the Golden Age? Answer: The kingdom's diversity and harmony. kwˈɛsʧᵊn: wˌʌt dˈɪd ði ˈɑɹTɪsts ænd skˈɑləɹz sˈɛləbɹˌAt dˈʊɹɪŋ ðə ɡˈOldən ˈAʤ? ˈænsəɹ: ðə kˈɪŋdəmz dəvˈɜɹsəTi ænd hˈɑɹməni.\n",
      "55 0 Question: What did architectural wonders such as the Crystal Gardens of Aurelis symbolize? Answer: The kingdom's blending of beauty and magic. kwˈɛsʧᵊn: wˌʌt dˈɪd ˌɑɹkətˈɛkʧəɹəl wˈʌndəɹz sˈʌʧ æz ðə kɹˈɪstᵊl ɡˈɑɹdənz ʌv ˈɔɹɛliz sˈɪmbəlˌIz? ˈænsəɹ: ðə kˈɪŋdəmz blˈɛndɪŋ ʌv bjˈuTi ænd mˈæʤɪk.\n",
      "56 0 Question: What kind of laws were codified by the archmage Selendir? Answer: Arcane laws. kwˈɛsʧᵊn: wˌʌt kˈInd ʌv lˈɔz wɜɹ kˈOdᵻfˌId bI ði ˌɑɹʧmˈAʤ sˈɛləndˌɪɹ? ˈænsəɹ: ɑɹkˈAn lˈɔz.\n",
      "57 0 Question: What expanded extensively during the Golden Age? Answer: Diplomatic and trade networks. kwˈɛsʧᵊn: wˌʌt ɪkspˈændᵻd ɪkstˈɛnsəvli dˈʊɹɪŋ ðə ɡˈOldən ˈAʤ? ˈænsəɹ: dˌɪpləmˈæTɪk ænd tɹˈAd nˈɛtwˌɜɹks.\n",
      "58 0 Question: What did the Morghasts unleash across Eldamere during their resurgence? Answer: Terror and darkness. kwˈɛsʧᵊn: wˌʌt dˈɪd ðə mˈɔɹɡæsts ˌʌnlˈiʃ əkɹˈɔs ˈɛldəmˌɪɹ dˈʊɹɪŋ ðɛɹ ɹəsˈɜɹʤᵊns? ˈænsəɹ: tˈɛɹəɹ ænd dˈɑɹknəs.\n",
      "59 0 Question: What kind of leader was King Eldarion? Answer: A charismatic and strategic leader. kwˈɛsʧᵊn: wˌʌt kˈInd ʌv lˈidəɹ wʌz kˈɪŋ ɛldˈɑɹɹiən? ˈænsəɹ: ɐ kˌɛɹəzmˈæTɪk ænd stɹətˈiʤɪk lˈidəɹ.\n",
      "60 0 Question: What did Valerielle's prophetic visions guide? Answer: Arphagonie's forces. kwˈɛsʧᵊn: wˌʌt dˈɪd vælˈɪɹiˈɛlz pɹəfˈɛTɪk vˈɪʒənz ɡˈId? ˈænsəɹ: ˈɑɹfəɡəniz fˈɔɹsᵻz.\n",
      "61 0 Question: What kind of rituals were used to seal away the Morghasts? Answer: Powerful arcane rituals. kwˈɛsʧᵊn: wˌʌt kˈInd ʌv ɹˈɪʧəwəlz wɜɹ jˈuzd tə sˈiᵊl əwˈA ðə mˈɔɹɡæsts? ˈænsəɹ: pˈWəɹfᵊl ɑɹkˈAn ɹˈɪʧəwəlz.\n",
      "62 0 Question: What guided Arphagonie during its post-war recovery and renaissance? Answer: Wisdom gained from past adversities. kwˈɛsʧᵊn: wˌʌt ɡˈIdᵻd ˈɑɹfəɡəni dˈʊɹɪŋ ɪts pˈOstwˌɔɹ ɹəkˈʌvəɹi ænd ɹˈɛnəsˌɑns? ˈænsəɹ: wˈɪzdəm ɡˈAnd fɹʌm pˈæst ædvˈɜɹsəTiz.\n",
      "63 0 Question: What became synonymous with Arphagonie throughout Eldamere? Answer: Unity, resilience, and enlightenment. kwˈɛsʧᵊn: wˌʌt bəkˈAm sənˈɑnəməs wɪð ˈɑɹfəɡəni θɹuˈWt ˈɛldəmˌɪɹ? ˈænsəɹ: jˈunəTi, ɹəzˈɪliəns, ænd ɪnlˈItnmᵊnt.\n",
      "64 0 Question: What kind of legacy does Arphagonie have? Answer: An ever-evolving legacy. kwˈɛsʧᵊn: wˌʌt kˈInd ʌv lˈɛɡəsi dˈʌz ˈɑɹfəɡəni hˈæv? ˈænsəɹ: ɐn ˌɛvəɹɪvˈɑlvɪŋ lˈɛɡəsi.\n",
      "65 0 Question: What did the Aetherials infuse the stardust with? Answer: Their collective essence. kwˈɛsʧᵊn: wˌʌt dˈɪd ði iθˈɜɹiəlz ɪnfjˈuz ðə stˈɑɹdˌʌst wɪð? ˈænsəɹ: ðˌɛɹ kəlˈɛktɪv ˈɛsᵊns.\n",
      "66 0 Question: What kind of cities did the dwarves carve? Answer: Magnificent cities. kwˈɛsʧᵊn: wˌʌt kˈInd ʌv sˈɪTiz dˈɪd ðə dwˈɔɹvz kˈɑɹv? ˈænsəɹ: mæɡnˈɪfəsənt sˈɪTiz.\n",
      "67 0 Question: What principles guided the harmonious relations among Eldamere's inhabitants? Answer: Principles imparted by their celestial creators. kwˈɛsʧᵊn: wˌʌt pɹˈɪnsəpᵊlz ɡˈIdᵻd ðə hɑɹmˈOniəs ɹəlˈAʃənz əmˈʌŋ ˈɛldəmˌɪɹz ɪnhˈæbəTənts? ˈænsəɹ: pɹˈɪnsəpᵊlz ɪmpˈɑɹTᵻd bI ðɛɹ səlˈɛsʧᵊl kɹiˈATəɹz.\n",
      "68 0 Question: What kind of shift did the emergence of the Morghasts necessitate? Answer: A radical shift in interspecies cooperation. kwˈɛsʧᵊn: wˌʌt kˈInd ʌv ʃˈɪft dˈɪd ði əmˈɜɹʤəns ʌv ðə mˈɔɹɡæsts nəsˈɛsətˌAt? ˈænsəɹ: ɐ ɹˈædəkᵊl ʃˈɪft ɪn ˌɪntəɹspˈisiz kOˌɑpəɹˈAʃən.\n",
      "69 0 Question: What kind of confrontation was the Battle of Evernight? Answer: A confrontation lasting seven days under perpetual darkness. kwˈɛsʧᵊn: wˌʌt kˈInd ʌv kˌɑnfɹəntˈAʃən wʌz ðə bˈæTᵊl ʌv ˈɛvəɹnˌIt? ˈænsəɹ: ɐ kˌɑnfɹəntˈAʃən lˈæstɪŋ sˈɛvən dˈAz ˈʌndəɹ pəɹpˈɛʧəwəl dˈɑɹknəs.\n",
      "70 0 Question: What kind of significance did the location of Aurelis provide? Answer: Magical significance. kwˈɛsʧᵊn: wˌʌt kˈInd ʌv səɡnˈɪfəkᵊns dˈɪd ðə lOkˈAʃən ʌv ˈɔɹɛliz pɹəvˈId? ˈænsəɹ: mˈæʤəkəl səɡnˈɪfəkᵊns.\n",
      "71 0 Question: What kind of society was promoted by harmonious relations among the various races? Answer: A vibrant, cooperative society. kwˈɛsʧᵊn: wˌʌt kˈInd ʌv səsˈIəTi wʌz pɹəmˈOTᵻd bI hɑɹmˈOniəs ɹəlˈAʃənz əmˈʌŋ ðə vˈɛɹiəs ɹˈAsᵻz? ˈænsəɹ: ɐ vˈIbɹənt, kOˈɑpəɹəTɪv səsˈIəTi.\n",
      "72 0 Question: What kind of scholarship is the Aurelis Arcane Academy revered for? Answer: Magical scholarship. kwˈɛsʧᵊn: wˌʌt kˈInd ʌv skˈɑləɹʃˌɪp ɪz ði ˈɔɹɛliz ɑɹkˈAn əkˈædəmi ɹəvˈɪɹd fɔɹ? ˈænsəɹ: mˈæʤəkəl skˈɑləɹʃˌɪp.\n",
      "73 0 Question: What kind of advancements is the Celestial Observatory famed for? Answer: Advancements in astronomy and astrology. kwˈɛsʧᵊn: wˌʌt kˈInd ʌv ədvˈænsmᵊnts ɪz ðə səlˈɛsʧᵊl əbzˈɜɹvətˌɔɹi fˈAmd fɔɹ? ˈænsəɹ: ədvˈænsmᵊnts ɪn əstɹˈɑnəmi ænd əstɹˈɑləʤi.\n",
      "74 0 Question: What did the codification of arcane laws lead to? Answer: Profound discoveries. kwˈɛsʧᵊn: wˌʌt dˈɪd ðə kˌɑdəfəkˈAʃən ʌv ɑɹkˈAn lˈɔz lˈid tu? ˈænsəɹ: pɹəfˈWnd dəskˈʌvəɹiz.\n",
      "75 0 Question: What kind of artifacts were invented to maintain peace and prosperity? Answer: Magical artifacts. kwˈɛsʧᵊn: wˌʌt kˈInd ʌv ˈɑɹTəfˌækts wɜɹ ɪnvˈɛntᵻd tə mAntˈAn pˈis ænd pɹɑspˈɛɹəTi? ˈænsəɹ: mˈæʤəkəl ˈɑɹTəfˌækts.\n",
      "76 0 Question: What did the Morghasts plunge the realm into? Answer: A devastating century-long conflict. kwˈɛsʧᵊn: wˌʌt dˈɪd ðə mˈɔɹɡæsts plˈʌnʤ ðə ɹˈɛlm ˈɪntu? ˈænsəɹ: ɐ dˈɛvəstˌATɪŋ sˈɛnʧəɹilˌɔŋ kˈɑnflˌɪkt.\n",
      "77 0 Question: What did the kingdom witness during the Shadow Wars? Answer: Widespread destruction. kwˈɛsʧᵊn: wˌʌt dˈɪd ðə kˈɪŋdəm wˈɪtnəs dˈʊɹɪŋ ðə ʃˈædO wˈɔɹz? ˈænsəɹ: wˈIdspɹˌɛd dəstɹˈʌkʃən.\n",
      "78 0 Question: What remained unbroken during the Shadow Wars? Answer: The resilience and courage of its inhabitants. kwˈɛsʧᵊn: wˌʌt ɹəmˈAnd ˌʌnbɹˈOkən dˈʊɹɪŋ ðə ʃˈædO wˈɔɹz? ˈænsəɹ: ðə ɹəzˈɪliəns ænd kˈɜɹɪʤ ʌv ɪts ɪnhˈæbəTənts.\n",
      "79 0 Question: What kind of leader was King Eldarion known to be? Answer: Strategic leader. kwˈɛsʧᵊn: wˌʌt kˈInd ʌv lˈidəɹ wʌz kˈɪŋ ɛldˈɑɹɹiən nˈOn tə bˈi? ˈænsəɹ: stɹətˈiʤɪk lˈidəɹ.\n",
      "80 0 Question: What kind of visions did Valerielle have? Answer: Prophetic visions. kwˈɛsʧᵊn: wˌʌt kˈInd ʌv vˈɪʒənz dˈɪd vælˈɪɹiˈɛl hˈæv? ˈænsəɹ: pɹəfˈɛTɪk vˈɪʒənz.\n",
      "81 0 Question: What did the innovations in magic, governance, and technology lead to? Answer: An era of lasting peace and prosperity. kwˈɛsʧᵊn: wˌʌt dˈɪd ði ˌɪnəvˈAʃənz ɪn mˈæʤɪk, ɡˈʌvəɹnəns, ænd tɛknˈɑləʤi lˈid tu? ˈænsəɹ: ɐn ˈɛɹə ʌv lˈæstɪŋ pˈis ænd pɹɑspˈɛɹəTi.\n",
      "82 0 Question: What kind of symbol is Arphagonie today? Answer: A symbol of hope and endurance. kwˈɛsʧᵊn: wˌʌt kˈInd ʌv sˈɪmbᵊl ɪz ˈɑɹfəɡəni tədˈA? ˈænsəɹ: ɐ sˈɪmbᵊl ʌv hˈOp ænd ɪndˈʊɹəns.\n",
      "83 0 Question: What did the Aetherials desire to craft? Answer: A realm that would embody harmony, balance, and boundless magic. kwˈɛsʧᵊn: wˌʌt dˈɪd ði iθˈɜɹiəlz dəzˈIəɹ tə kɹˈæft? ˈænsəɹ: ɐ ɹˈɛlm ðæt wʊd əmbˈɑdi hˈɑɹməni, bˈæləns, ænd bˈWndləs mˈæʤɪk.\n",
      "84 0 Question: What kind of world did the Aetherials shape? Answer: A lush and vibrant world. kwˈɛsʧᵊn: wˌʌt kˈInd ʌv wˈɜɹld dˈɪd ði iθˈɜɹiəlz ʃˈAp? ˈænsəɹ: ɐ lˈʌʃ ænd vˈIbɹənt wˈɜɹld.\n",
      "85 0 Question: What did Eldamere quickly become? Answer: A sanctuary of magic and life. kwˈɛsʧᵊn: wˌʌt dˈɪd ˈɛldəmˌɪɹ kwˈɪkli bəkˈʌm? ˈænsəɹ: ɐ sˈæŋkʧʊˌɛɹi ʌv mˈæʤɪk ænd lˈIf.\n",
      "86 0 Question: What kind of threat did the Morghasts pose? Answer: An unprecedented danger to all inhabitants. kwˈɛsʧᵊn: wˌʌt kˈInd ʌv θɹˈɛt dˈɪd ðə mˈɔɹɡæsts pˈOz? ˈænsəɹ: ɐn ˌʌnpɹˈɛsədəntᵻd dˈAnʤəɹ tʊ ˈɔl ɪnhˈæbəTənts.\n",
      "87 0 Question: What did Arphagor and Gionaea expertly do? Answer: Mediated diplomatic negotiations. kwˈɛsʧᵊn: wˌʌt dˈɪd ˈɑɹfæɡəɹ ænd ʤənˈiə ˈɛkspˌɜɹtli dˈu? ˈænsəɹ: mˈidiˌATᵻd dˌɪpləmˈæTɪk nəɡˌOʃiˈAʃənz.\n",
      "88 0 Question: What did the diverse peoples formally do in recognition of their triumph? Answer: Unified into a single kingdom. kwˈɛsʧᵊn: wˌʌt dˈɪd ðə dəvˈɜɹs pˈipᵊlz fˈɔɹməli dˈu ɪn ɹˌɛkəɡnˈɪʃən ʌv ðɛɹ tɹˈIəmf? ˈænsəɹ: jˈunəfˌId ˈɪntu ɐ sˈɪŋɡᵊl kˈɪŋdəm.\n",
      "89 0 Question: What did Arphagonie experience during the Golden Age? Answer: Unprecedented growth, prosperity, and cultural flourishing. kwˈɛsʧᵊn: wˌʌt dˈɪd ˈɑɹfəɡəni ɪkspˈɪɹiəns dˈʊɹɪŋ ðə ɡˈOldən ˈAʤ? ˈænsəɹ: ˌʌnpɹˈɛsədəntᵻd ɡɹˈOθ, pɹɑspˈɛɹəTi, ænd kˈʌlʧəɹəl flˈɜɹɪʃɪŋ.\n",
      "90 0 Question: What did the Shadow Wars plunge Eldamere into? Answer: Terror and darkness. kwˈɛsʧᵊn: wˌʌt dˈɪd ðə ʃˈædO wˈɔɹz plˈʌnʤ ˈɛldəmˌɪɹ ˈɪntu? ˈænsəɹ: tˈɛɹəɹ ænd dˈɑɹknəs.\n",
      "91 0 Question: What has Arphagonie undergone in the two centuries following the Shadow Wars? Answer: A remarkable recovery and renaissance. kwˈɛsʧᵊn: wˌʌt hæz ˈɑɹfəɡəni ˌʌndəɹɡˈɑn ɪn ðə tˈu sˈɛnʧəɹiz fˈɑlOɪŋ ðə ʃˈædO wˈɔɹz? ˈænsəɹ: ɐ ɹəmˈɑɹkəbᵊl ɹəkˈʌvəɹi ænd ɹˈɛnəsˌɑns.\n",
      "92 0 Question: What is Arphagonie revered for? Answer: Its storied past and its ever-evolving legacy. kwˈɛsʧᵊn: wˌʌt ɪz ˈɑɹfəɡəni ɹəvˈɪɹd fɔɹ? ˈænsəɹ: ˌɪts stˈɔɹid pˈæst ænd ɪts ˌɛvəɹɪvˈɑlvɪŋ lˈɛɡəsi.\n",
      "93 0 Question: What does Eldamere embody? Answer: Harmony, balance and boundless magic. kwˈɛsʧᵊn: wˌʌt dˈʌz ˈɛldəmˌɪɹ əmbˈɑdi? ˈænsəɹ: hˈɑɹməni, bˈæləns ænd bˈWndləs mˈæʤɪk.\n",
      "94 0 Question: What do the enchanted bridges of Eldan River symbolize? Answer: The kingdomâ€™s blending of beauty and magic. kwˈɛsʧᵊn: wˌʌt dˈu ði ɪnʧˈæntᵻd bɹˈɪʤɪz ʌv ˈɛldən ɹˈɪvəɹ sˈɪmbəlˌIz? ˈænsəɹ: ðə kɪŋdˈOmə jˈʊɹɹOztɹˈAd ˈɛs blˈɛndɪŋ ʌv bjˈuTi ænd mˈæʤɪk.\n",
      "95 0 Question: What is the Dark Frontier? Answer: The obscure, chaotic fringes of Eldamere. kwˈɛsʧᵊn: wˌʌt ɪz ðə dˈɑɹk fɹˌʌntˈɪɹ? ˈænsəɹ: ði əbskjˈʊɹ, kAˈɑTɪk fɹˈɪnʤᵻz ʌv ˈɛldəmˌɪɹ.\n",
      "96 0 Question: What did harmonious relations among Eldamere's inhabitants lay the foundations for? Answer: Future civilizations, including the Kingdom of Arphagonie. kwˈɛsʧᵊn: wˌʌt dˈɪd hɑɹmˈOniəs ɹəlˈAʃənz əmˈʌŋ ˈɛldəmˌɪɹz ɪnhˈæbəTənts lˈA ðə fWndˈAʃənz fɔɹ? ˈænsəɹ: fjˈuʧəɹ sˌɪvələzˈAʃənz, ɪnklˈudɪŋ ðə kˈɪŋdəm ʌv ˈɑɹfəɡəni.\n",
      "97 0 Question: What is King Eldarion known for in addition to being charismatic? Answer: Being a strategic leader. kwˈɛsʧᵊn: wˌʌt ɪz kˈɪŋ ɛldˈɑɹɹiən nˈOn fɔɹ ɪn ədˈɪʃən tə bˈiɪŋ kˌɛɹəzmˈæTɪk? ˈænsəɹ: bˈiɪŋ ɐ stɹətˈiʤɪk lˈidəɹ.\n",
      "98 0 Question: What is Arphagonie considered throughout Eldamere today? Answer: Synonymous with unity, resilience, and enlightenment. kwˈɛsʧᵊn: wˌʌt ɪz ˈɑɹfəɡəni kənsˈɪdəɹd θɹuˈWt ˈɛldəmˌɪɹ tədˈA? ˈænsəɹ: sənˈɑnəməs wɪð jˈunəTi, ɹəzˈɪliəns, ænd ɪnlˈItnmᵊnt.\n",
      "99 0 Question: What is constantly evolving in Arphagonie? Answer: Its legacy. kwˈɛsʧᵊn: wˌʌt ɪz kˈɑnstᵊntli ɪvˈɑlvɪŋ ɪn ˈɑɹfəɡəni? ˈænsəɹ: ˌɪts lˈɛɡəsi.\n",
      "100 0 Question: What is the lasting impression of Arphagonie? Answer: It remains a symbol of hope and endurance. kwˈɛsʧᵊn: wˌʌt ɪz ðə lˈæstɪŋ ɪmpɹˈɛʃən ʌv ˈɑɹfəɡəni? ˈænsəɹ: ˌɪt ɹəmˈAnz ɐ sˈɪmbᵊl ʌv hˈOp ænd ɪndˈʊɹəns.\n",
      "101 0 Question: What did the united forces achieve at the Battle of Evernight? Answer: A decisive victory. kwˈɛsʧᵊn: wˌʌt dˈɪd ðə junˈITᵻd fˈɔɹsᵻz əʧˈiv æt ðə bˈæTᵊl ʌv ˈɛvəɹnˌIt? ˈænsəɹ: ɐ dəsˈIsɪv vˈɪktəɹi.\n",
      "102 0 Question: What is the kingdom named after? Answer: Arphagor kwˈɛsʧᵊn: wˌʌt ɪz ðə kˈɪŋdəm nˈAmd ˈæftəɹ? ˈænsəɹ: ˈɑɹfæɡəɹ\n"
     ]
    }
   ],
   "source": [
    "from kokoro import KPipeline\n",
    "from IPython.display import display, Audio\n",
    "import soundfile as sf\n",
    "import torch\n",
    "pipeline = KPipeline(lang_code='a')\n",
    "for i, text in enumerate(text_list):\n",
    "    generator = pipeline(text, voice='af_heart')\n",
    "    for j, (gs, ps, audio) in enumerate(generator):\n",
    "        print(i, j, gs, ps)\n",
    "        sf.write(f'audios/{i}_{j}.wav', audio, 24000)"
   ]
  },
  {
   "cell_type": "code",
   "execution_count": null,
   "metadata": {},
   "outputs": [],
   "source": []
  }
 ],
 "metadata": {
  "kernelspec": {
   "display_name": "Python 3",
   "language": "python",
   "name": "python3"
  },
  "language_info": {
   "codemirror_mode": {
    "name": "ipython",
    "version": 3
   },
   "file_extension": ".py",
   "mimetype": "text/x-python",
   "name": "python",
   "nbconvert_exporter": "python",
   "pygments_lexer": "ipython3",
   "version": "3.12.4"
  }
 },
 "nbformat": 4,
 "nbformat_minor": 2
}
